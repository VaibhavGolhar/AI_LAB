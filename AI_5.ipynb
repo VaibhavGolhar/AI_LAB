{
  "nbformat": 4,
  "nbformat_minor": 0,
  "metadata": {
    "colab": {
      "provenance": []
    },
    "kernelspec": {
      "name": "python3",
      "display_name": "Python 3"
    },
    "language_info": {
      "name": "python"
    }
  },
  "cells": [
    {
      "cell_type": "code",
      "execution_count": 1,
      "metadata": {
        "id": "aqAAr2eLIAj-"
      },
      "outputs": [],
      "source": [
        "import math\n",
        "\n",
        "# Define the players\n",
        "AI_PLAYER = 'X'\n",
        "HUMAN_PLAYER = 'O'\n",
        "EMPTY = ' '"
      ]
    },
    {
      "cell_type": "code",
      "source": [
        "def print_board(board):\n",
        "    print('-------------')\n",
        "    for i in range(3):\n",
        "        print('|', board[3*i], '|', board[3*i+1], '|', board[3*i+2], '|')\n",
        "        print('-------------')"
      ],
      "metadata": {
        "id": "VQVXY9pDIGH3"
      },
      "execution_count": 2,
      "outputs": []
    },
    {
      "cell_type": "code",
      "source": [
        "def check_winner(board):\n",
        "    # Define winning combinations\n",
        "    win_combinations = [\n",
        "        (0, 1, 2),  # Rows\n",
        "        (3, 4, 5),\n",
        "        (6, 7, 8),\n",
        "        (0, 3, 6),  # Columns\n",
        "        (1, 4, 7),\n",
        "        (2, 5, 8),\n",
        "        (0, 4, 8),  # Diagonals\n",
        "        (2, 4, 6)\n",
        "    ]\n",
        "\n",
        "    for combo in win_combinations:\n",
        "        a, b, c = combo\n",
        "        if board[a] == board[b] == board[c] != EMPTY:\n",
        "            return board[a]\n",
        "\n",
        "    if EMPTY not in board:\n",
        "        return 'Draw'\n",
        "\n",
        "    return None"
      ],
      "metadata": {
        "id": "nFLXpaBuIIV_"
      },
      "execution_count": 3,
      "outputs": []
    },
    {
      "cell_type": "code",
      "source": [
        "def get_available_moves(board):\n",
        "    return [i for i, spot in enumerate(board) if spot == EMPTY]"
      ],
      "metadata": {
        "id": "PXeJcNC4IKRk"
      },
      "execution_count": 4,
      "outputs": []
    },
    {
      "cell_type": "code",
      "source": [
        "def minimax(board, depth, is_maximizing):\n",
        "    winner = check_winner(board)\n",
        "    if winner == AI_PLAYER:\n",
        "        return 1\n",
        "    elif winner == HUMAN_PLAYER:\n",
        "        return -1\n",
        "    elif winner == 'Draw':\n",
        "        return 0\n",
        "\n",
        "    if is_maximizing:\n",
        "        best_score = -math.inf\n",
        "        for move in get_available_moves(board):\n",
        "            board[move] = AI_PLAYER\n",
        "            score = minimax(board, depth + 1, False)\n",
        "            board[move] = EMPTY\n",
        "            best_score = max(score, best_score)\n",
        "        return best_score\n",
        "    else:\n",
        "        best_score = math.inf\n",
        "        for move in get_available_moves(board):\n",
        "            board[move] = HUMAN_PLAYER\n",
        "            score = minimax(board, depth + 1, True)\n",
        "            board[move] = EMPTY\n",
        "            best_score = min(score, best_score)\n",
        "        return best_score"
      ],
      "metadata": {
        "id": "vua33y1zIMQE"
      },
      "execution_count": 5,
      "outputs": []
    },
    {
      "cell_type": "code",
      "source": [
        "def best_move(board):\n",
        "    best_score = -math.inf\n",
        "    move = None\n",
        "    for possible_move in get_available_moves(board):\n",
        "        board[possible_move] = AI_PLAYER\n",
        "        score = minimax(board, 0, False)\n",
        "        board[possible_move] = EMPTY\n",
        "        if score > best_score:\n",
        "            best_score = score\n",
        "            move = possible_move\n",
        "    return move"
      ],
      "metadata": {
        "id": "lTWqlbW_IOKv"
      },
      "execution_count": 6,
      "outputs": []
    },
    {
      "cell_type": "code",
      "source": [
        "def play_game():\n",
        "    board = [EMPTY for _ in range(9)]\n",
        "    print(\"Welcome to Tic-Tac-Toe!\")\n",
        "    print_board(board)\n",
        "\n",
        "    while True:\n",
        "        # Human move\n",
        "        try:\n",
        "            human_move = int(input(\"Enter your move (0-8): \"))\n",
        "            if board[human_move] != EMPTY or human_move not in range(9):\n",
        "                print(\"Invalid move. Try again.\")\n",
        "                continue\n",
        "            board[human_move] = HUMAN_PLAYER\n",
        "        except (ValueError, IndexError):\n",
        "            print(\"Please enter a number between 0 and 8.\")\n",
        "            continue\n",
        "\n",
        "        print_board(board)\n",
        "        winner = check_winner(board)\n",
        "        if winner:\n",
        "            if winner == 'Draw':\n",
        "                print(\"It's a draw!\")\n",
        "            else:\n",
        "                print(f\"{winner} wins!\")\n",
        "            break\n",
        "\n",
        "        # AI move\n",
        "        ai_move = best_move(board)\n",
        "        if ai_move is not None:\n",
        "            board[ai_move] = AI_PLAYER\n",
        "            print(f\"AI chooses position {ai_move}\")\n",
        "            print_board(board)\n",
        "            winner = check_winner(board)\n",
        "            if winner:\n",
        "                if winner == 'Draw':\n",
        "                    print(\"It's a draw!\")\n",
        "                else:\n",
        "                    print(f\"{winner} wins!\")\n",
        "                break\n",
        "        else:\n",
        "            print(\"No more moves left!\")\n",
        "            print(\"It's a draw!\")\n",
        "            break"
      ],
      "metadata": {
        "id": "rCSOZj96IQUI"
      },
      "execution_count": 7,
      "outputs": []
    },
    {
      "cell_type": "code",
      "source": [
        "if __name__ == \"__main__\":\n",
        "    play_game()"
      ],
      "metadata": {
        "colab": {
          "base_uri": "https://localhost:8080/"
        },
        "id": "jRMUlK4VIUN5",
        "outputId": "7812a995-0f7b-4e23-caba-4a99498c95e2"
      },
      "execution_count": 8,
      "outputs": [
        {
          "output_type": "stream",
          "name": "stdout",
          "text": [
            "Welcome to Tic-Tac-Toe!\n",
            "-------------\n",
            "|   |   |   |\n",
            "-------------\n",
            "|   |   |   |\n",
            "-------------\n",
            "|   |   |   |\n",
            "-------------\n",
            "Enter your move (0-8): 4\n",
            "-------------\n",
            "|   |   |   |\n",
            "-------------\n",
            "|   | O |   |\n",
            "-------------\n",
            "|   |   |   |\n",
            "-------------\n",
            "AI chooses position 0\n",
            "-------------\n",
            "| X |   |   |\n",
            "-------------\n",
            "|   | O |   |\n",
            "-------------\n",
            "|   |   |   |\n",
            "-------------\n",
            "Enter your move (0-8): 8\n",
            "-------------\n",
            "| X |   |   |\n",
            "-------------\n",
            "|   | O |   |\n",
            "-------------\n",
            "|   |   | O |\n",
            "-------------\n",
            "AI chooses position 2\n",
            "-------------\n",
            "| X |   | X |\n",
            "-------------\n",
            "|   | O |   |\n",
            "-------------\n",
            "|   |   | O |\n",
            "-------------\n",
            "Enter your move (0-8): 1\n",
            "-------------\n",
            "| X | O | X |\n",
            "-------------\n",
            "|   | O |   |\n",
            "-------------\n",
            "|   |   | O |\n",
            "-------------\n",
            "AI chooses position 7\n",
            "-------------\n",
            "| X | O | X |\n",
            "-------------\n",
            "|   | O |   |\n",
            "-------------\n",
            "|   | X | O |\n",
            "-------------\n",
            "Enter your move (0-8): 6\n",
            "-------------\n",
            "| X | O | X |\n",
            "-------------\n",
            "|   | O |   |\n",
            "-------------\n",
            "| O | X | O |\n",
            "-------------\n",
            "AI chooses position 3\n",
            "-------------\n",
            "| X | O | X |\n",
            "-------------\n",
            "| X | O |   |\n",
            "-------------\n",
            "| O | X | O |\n",
            "-------------\n",
            "Enter your move (0-8): 5\n",
            "-------------\n",
            "| X | O | X |\n",
            "-------------\n",
            "| X | O | O |\n",
            "-------------\n",
            "| O | X | O |\n",
            "-------------\n",
            "It's a draw!\n"
          ]
        }
      ]
    }
  ]
}