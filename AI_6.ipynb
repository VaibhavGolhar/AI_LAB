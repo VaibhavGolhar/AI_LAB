{
  "nbformat": 4,
  "nbformat_minor": 0,
  "metadata": {
    "colab": {
      "provenance": []
    },
    "kernelspec": {
      "name": "python3",
      "display_name": "Python 3"
    },
    "language_info": {
      "name": "python"
    }
  },
  "cells": [
    {
      "cell_type": "code",
      "execution_count": null,
      "metadata": {
        "id": "GudyyxXSRNsB"
      },
      "outputs": [],
      "source": [
        "def is_safe(board, row, col):    #checking constraints\n",
        "    for i in range(row - 1, -1, -1):   # Vertically upward\n",
        "        if board[i][col] == 'Q':\n",
        "            return False\n",
        "\n",
        "    for i, j in zip(range(row - 1, -1, -1), range(col - 1, -1, -1)):   # Upper left diagonal\n",
        "        if board[i][j] == 'Q':\n",
        "            return False\n",
        "\n",
        "    for i, j in zip(range(row - 1, -1, -1), range(col + 1, len(board))):   # Upper right diagonal\n",
        "        if board[i][j] == 'Q':\n",
        "            return False\n",
        "\n",
        "    return True\n",
        "\n",
        "\n",
        "total_ways = 0\n",
        "\n",
        "def n_queens(board, row):\n",
        "    global total_ways\n",
        "    if row == len(board):\n",
        "        for i in range(len(board)):\n",
        "            for j in range(len(board)):\n",
        "                print(board[i][j], end=' ')\n",
        "            print()\n",
        "        print()\n",
        "        total_ways += 1\n",
        "        return\n",
        "\n",
        "    for i in range(len(board)):\n",
        "        if is_safe(board, row, i):\n",
        "            board[row][i] = 'Q'\n",
        "            n_queens(board, row + 1)     # recursion call\n",
        "            board[row][i] = '.'         # backtracking step\n",
        "\n",
        "\n",
        "if __name__ == \"__main__\":\n",
        "    n = 100\n",
        "    board = [['.' for _ in range(n)] for _ in range(n)]\n",
        "    n_queens(board, 0)\n",
        "    print(total_ways)\n"
      ]
    }
  ]
}